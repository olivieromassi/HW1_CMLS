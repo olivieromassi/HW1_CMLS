{
  "nbformat": 4,
  "nbformat_minor": 0,
  "metadata": {
    "colab": {
      "name": "Classification.ipynb",
      "provenance": [],
      "collapsed_sections": []
    },
    "kernelspec": {
      "name": "python3",
      "display_name": "Python 3"
    }
  },
  "cells": [
    {
      "cell_type": "markdown",
      "metadata": {
        "id": "VXuT0Q0SKgIC",
        "colab_type": "text"
      },
      "source": [
        "# Music Genre Classification:\n",
        "Using the features extracted from the audio segments contained in the GTZAN dataset, we build up the model for classification. The Classification is only limited to the classes 'Disco', 'Pop', 'Reggae', 'Rock'."
      ]
    },
    {
      "cell_type": "code",
      "metadata": {
        "id": "TyxcPPHEKP2A",
        "colab_type": "code",
        "colab": {}
      },
      "source": [
        "from google.colab import files\n",
        "\n",
        "import pandas as pd\n",
        "import numpy as np\n",
        "import itertools\n",
        "import matplotlib.pyplot as plt\n",
        "\n",
        "from sklearn.model_selection import train_test_split\n",
        "\n",
        "from sklearn.preprocessing import StandardScaler\n",
        "from sklearn.feature_selection import VarianceThreshold\n",
        "from sklearn.feature_selection import SelectFromModel\n",
        "from sklearn.pipeline import Pipeline\n",
        "\n",
        "from sklearn.svm import SVC\n",
        "from sklearn.model_selection import GridSearchCV\n",
        "\n",
        "import lightgbm as lgbm\n",
        "\n",
        "from sklearn.metrics import accuracy_score\n",
        "from sklearn.metrics import confusion_matrix\n",
        "from sklearn.metrics import classification_report"
      ],
      "execution_count": 0,
      "outputs": []
    },
    {
      "cell_type": "markdown",
      "metadata": {
        "id": "ZEexhcLMMCjs",
        "colab_type": "text"
      },
      "source": [
        "# Uploading the features from csv file:\n",
        "The data loaded from the csv file are represented in the structured way imposed by the Dataframe representation."
      ]
    },
    {
      "cell_type": "code",
      "metadata": {
        "id": "s12QbHy9N0RF",
        "colab_type": "code",
        "outputId": "cc5a3a41-6584-4903-a7cd-d1cb7567ac5a",
        "colab": {
          "resources": {
            "http://localhost:8080/nbextensions/google.colab/files.js": {
              "data": "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",
              "ok": true,
              "headers": [
                [
                  "content-type",
                  "application/javascript"
                ]
              ],
              "status": 200,
              "status_text": ""
            }
          },
          "base_uri": "https://localhost:8080/",
          "height": 74
        }
      },
      "source": [
        "uploaded = files.upload()"
      ],
      "execution_count": 0,
      "outputs": [
        {
          "output_type": "display_data",
          "data": {
            "text/html": [
              "\n",
              "     <input type=\"file\" id=\"files-d2d5bc06-780d-4db3-9f10-4100aec51891\" name=\"files[]\" multiple disabled />\n",
              "     <output id=\"result-d2d5bc06-780d-4db3-9f10-4100aec51891\">\n",
              "      Upload widget is only available when the cell has been executed in the\n",
              "      current browser session. Please rerun this cell to enable.\n",
              "      </output>\n",
              "      <script src=\"/nbextensions/google.colab/files.js\"></script> "
            ],
            "text/plain": [
              "<IPython.core.display.HTML object>"
            ]
          },
          "metadata": {
            "tags": []
          }
        },
        {
          "output_type": "stream",
          "text": [
            "Saving features.csv to features.csv\n"
          ],
          "name": "stdout"
        }
      ]
    },
    {
      "cell_type": "code",
      "metadata": {
        "id": "AnEatfXjMRGB",
        "colab_type": "code",
        "colab": {}
      },
      "source": [
        "features = pd.read_csv('features.csv')\n",
        "\n",
        "# Dropping the column representing the labels\n",
        "X = features.drop(['genre'], axis=1).values\n",
        "# Definition of the vector of labels\n",
        "y = features['genre'].values"
      ],
      "execution_count": 0,
      "outputs": []
    },
    {
      "cell_type": "markdown",
      "metadata": {
        "id": "nBZT7Q0dPGHy",
        "colab_type": "text"
      },
      "source": [
        "# Splitting the data into Training Set and Test Set:\n",
        "This operation builds the sets `X_train` and `y_train` which are the training set of features and their corresponding set of labels, and the sets `X_test` and `y_test` which are the testing set of features. '`random_state`' is set to a fixed value in order to make the results replicable at every new execution."
      ]
    },
    {
      "cell_type": "code",
      "metadata": {
        "id": "hg1Q_9RLPSEr",
        "colab_type": "code",
        "colab": {}
      },
      "source": [
        "# The test_size will be by default the 0.25 of the dataset, while\n",
        "# the labels of the corresponding sets are built over y\n",
        "X_train, X_test, y_train, y_test = train_test_split(X, y, stratify=y, random_state=14)"
      ],
      "execution_count": 0,
      "outputs": []
    },
    {
      "cell_type": "markdown",
      "metadata": {
        "id": "U1b0xH0JRAzQ",
        "colab_type": "text"
      },
      "source": [
        "# SVM: Feature Processing, Feature Selection and Classification Model\n",
        "The following operations define the parameters and the pipeline to use for Support Vector Machine classification:\n",
        "\n",
        "The parameters set are the following:\n",
        "\n",
        "*   **'`cls__C`'**: these parameters specify different regularization factors to apply to the model to avoid overfitting.\n",
        "*   **'`cls__kernel`'**: these parameters specify different kernels (Radial Basis Function kernel, Linear kernel, Sigmoidal kernel) to map the features into different feature spaces to try to improve the classification.\n",
        "\n",
        "The pipeline defines a composite estimator applying the following transformations:\n",
        "\n",
        "\n",
        "*   **'`scale`'**: standardizes features by removing the mean and scaling to unit variance.\n",
        "*  **'`var_tresh`'**: it removes all features whose variance doesn’t meet some threshold.\n",
        "*  **'`feature_selection`'**: in the specific, the function SelectFromModel is a meta-transformer that works after fitting and removes the features considered unimportant.\n",
        "*  **'`cls`'**: Support Vector Classification is the tecnique used to perform the classification.\n",
        "\n",
        "\n"
      ]
    },
    {
      "cell_type": "code",
      "metadata": {
        "id": "HQOxxsP-RfZZ",
        "colab_type": "code",
        "colab": {}
      },
      "source": [
        "params = {\n",
        "    'cls__C': [0.5, 1, 2, 5],\n",
        "    'cls__kernel': ['rbf', 'linear', 'sigmoid'],\n",
        "}\n",
        "\n",
        "pipe_svm = Pipeline([\n",
        "    ('scale', StandardScaler()),\n",
        "    ('var_tresh', VarianceThreshold(threshold=(.8 * (1 - .8)))),\n",
        "    ('feature_selection', SelectFromModel(lgbm.LGBMClassifier())),\n",
        "    ('cls', SVC())\n",
        "])"
      ],
      "execution_count": 0,
      "outputs": []
    },
    {
      "cell_type": "markdown",
      "metadata": {
        "id": "e4CcUdL0b8fw",
        "colab_type": "text"
      },
      "source": [
        "# Model Training:\n",
        "The `GridSearchCV` exhaustively considers all parameter combinations, and when “fitting” it on a dataset all the possible combinations of parameter values are evaluated and the best combination with respect to the scoring parameter specified ('`accuracy`' in this case) is retained."
      ]
    },
    {
      "cell_type": "code",
      "metadata": {
        "id": "OO0mPbuZeZ0S",
        "colab_type": "code",
        "outputId": "781fd730-970e-4aa0-940c-1dca19dabf15",
        "colab": {
          "base_uri": "https://localhost:8080/",
          "height": 454
        }
      },
      "source": [
        "grid_svm = GridSearchCV(pipe_svm, params, scoring='accuracy', n_jobs=6, cv=5)\n",
        "# Performing the model training\n",
        "grid_svm.fit(X_train, y_train)"
      ],
      "execution_count": 0,
      "outputs": [
        {
          "output_type": "execute_result",
          "data": {
            "text/plain": [
              "GridSearchCV(cv=5, error_score=nan,\n",
              "             estimator=Pipeline(memory=None,\n",
              "                                steps=[('scale',\n",
              "                                        StandardScaler(copy=True,\n",
              "                                                       with_mean=True,\n",
              "                                                       with_std=True)),\n",
              "                                       ('var_tresh',\n",
              "                                        VarianceThreshold(threshold=0.15999999999999998)),\n",
              "                                       ('feature_selection',\n",
              "                                        SelectFromModel(estimator=LGBMClassifier(boosting_type='gbdt',\n",
              "                                                                                 class_weight=None,\n",
              "                                                                                 colsample_bytree=1.0,\n",
              "                                                                                 importance_type='split',\n",
              "                                                                                 lear...\n",
              "                                            decision_function_shape='ovr',\n",
              "                                            degree=3, gamma='scale',\n",
              "                                            kernel='rbf', max_iter=-1,\n",
              "                                            probability=False,\n",
              "                                            random_state=None, shrinking=True,\n",
              "                                            tol=0.001, verbose=False))],\n",
              "                                verbose=False),\n",
              "             iid='deprecated', n_jobs=6,\n",
              "             param_grid={'cls__C': [0.5, 1, 2, 5],\n",
              "                         'cls__kernel': ['rbf', 'linear', 'sigmoid']},\n",
              "             pre_dispatch='2*n_jobs', refit=True, return_train_score=False,\n",
              "             scoring='accuracy', verbose=0)"
            ]
          },
          "metadata": {
            "tags": []
          },
          "execution_count": 233
        }
      ]
    },
    {
      "cell_type": "markdown",
      "metadata": {
        "id": "FEd_9nz4ezZH",
        "colab_type": "text"
      },
      "source": [
        "# Model Testing and Accuracy Evaluation:\n",
        "The model is evaluated on the test set extracted at the beginning from the feature dataset in performing class prediction on newly unseen data.\n",
        "Accuracy scores achieved by the model both on Validation set (after the Cross Validation process) and Test set are plotted. More structured informations regarding hyper-parameters estimation and prediction performances are reported.\n"
      ]
    },
    {
      "cell_type": "code",
      "metadata": {
        "id": "9bFHKHCtfTI9",
        "colab_type": "code",
        "outputId": "28e4a9b6-e6cb-41ab-926a-00704c276c49",
        "colab": {
          "base_uri": "https://localhost:8080/",
          "height": 588
        }
      },
      "source": [
        "predictions = grid_svm.predict(X_test)\n",
        "\n",
        "print(\"Score on training set (accuracy) = {:.4f}\\n\".format(grid_svm.score(X_train, y_train)))\n",
        "\n",
        "print(\"Cross Validation scores (accuracy) for each set of parameters (95% confidence interval):\")\n",
        "\n",
        "means = grid_svm.cv_results_['mean_test_score']\n",
        "stds = grid_svm.cv_results_['std_test_score']\n",
        "\n",
        "for mean, std, params in zip(means, stds, grid_svm.cv_results_['params']):\n",
        "  print(\"%0.3f (+/-%0.03f) for %r\" % (mean, std * 2, params))\n",
        "print()\n",
        "\n",
        "print(\"Best score on validation set (accuracy) = {:.4f}\".format(grid_svm.best_score_))\n",
        "print(\"Given the parameters:\")\n",
        "print(\"C = {}\".format(grid_svm.best_params_['cls__C']))\n",
        "print(\"Kernel = {}\\n\".format(grid_svm.best_params_['cls__kernel']))\n",
        "\n",
        "print(\"Classification Report on Test Set:\")\n",
        "print(classification_report(y_test, predictions, target_names=['disco','pop','reggae','rock']))\n",
        "print(\"Score on test set (accuracy) = {:.4f}\".format(accuracy_score(y_test, predictions)))"
      ],
      "execution_count": 0,
      "outputs": [
        {
          "output_type": "stream",
          "text": [
            "Score on training set (accuracy) = 1.0000\n",
            "\n",
            "Cross Validation scores (accuracy) for each set of parameters (95% confidence interval):\n",
            "0.760 (+/-0.105) for {'cls__C': 0.5, 'cls__kernel': 'rbf'}\n",
            "0.747 (+/-0.053) for {'cls__C': 0.5, 'cls__kernel': 'linear'}\n",
            "0.760 (+/-0.062) for {'cls__C': 0.5, 'cls__kernel': 'sigmoid'}\n",
            "0.780 (+/-0.116) for {'cls__C': 1, 'cls__kernel': 'rbf'}\n",
            "0.747 (+/-0.053) for {'cls__C': 1, 'cls__kernel': 'linear'}\n",
            "0.763 (+/-0.098) for {'cls__C': 1, 'cls__kernel': 'sigmoid'}\n",
            "0.793 (+/-0.109) for {'cls__C': 2, 'cls__kernel': 'rbf'}\n",
            "0.747 (+/-0.053) for {'cls__C': 2, 'cls__kernel': 'linear'}\n",
            "0.743 (+/-0.050) for {'cls__C': 2, 'cls__kernel': 'sigmoid'}\n",
            "0.800 (+/-0.070) for {'cls__C': 5, 'cls__kernel': 'rbf'}\n",
            "0.747 (+/-0.053) for {'cls__C': 5, 'cls__kernel': 'linear'}\n",
            "0.723 (+/-0.058) for {'cls__C': 5, 'cls__kernel': 'sigmoid'}\n",
            "\n",
            "Best score on validation set (accuracy) = 0.8000\n",
            "Given the parameters:\n",
            "C = 5\n",
            "Kernel = rbf\n",
            "\n",
            "Classification Report on Test Set:\n",
            "              precision    recall  f1-score   support\n",
            "\n",
            "       disco       0.88      0.88      0.88        25\n",
            "         pop       0.92      0.92      0.92        25\n",
            "      reggae       0.88      0.84      0.86        25\n",
            "        rock       0.81      0.84      0.82        25\n",
            "\n",
            "    accuracy                           0.87       100\n",
            "   macro avg       0.87      0.87      0.87       100\n",
            "weighted avg       0.87      0.87      0.87       100\n",
            "\n",
            "Score on test set (accuracy) = 0.8700\n"
          ],
          "name": "stdout"
        }
      ]
    },
    {
      "cell_type": "markdown",
      "metadata": {
        "id": "cdp6_j9BhMlw",
        "colab_type": "text"
      },
      "source": [
        "# Confusion Matrix:\n",
        "Below the definition of the function to properly plot the confusion matrix and its evaluation on the model."
      ]
    },
    {
      "cell_type": "code",
      "metadata": {
        "id": "7qebEUD0hu4F",
        "colab_type": "code",
        "outputId": "535c388f-0765-4efa-d38c-8136d7418669",
        "colab": {
          "base_uri": "https://localhost:8080/",
          "height": 580
        }
      },
      "source": [
        "def plot_confusion_matrix(cm, classes, normalize=False, cmap=plt.cm.Blues):\n",
        "    \n",
        "    # Normalization can be applied by setting normalize=True\n",
        "    if normalize:\n",
        "        cm = cm.astype('float') / cm.sum(axis=1)[:, np.newaxis]\n",
        "\n",
        "    plt.imshow(cm, interpolation='nearest', cmap=cmap)\n",
        "    plt.title('Confusion Matrix')\n",
        "    plt.colorbar()\n",
        "    tick_marks = np.arange(len(classes))\n",
        "    plt.xticks(tick_marks, classes, rotation=45)\n",
        "    plt.yticks(tick_marks, classes)\n",
        "\n",
        "    fmt = '.2f' if normalize else 'd'\n",
        "    thresh = cm.max() / 2.\n",
        "    for i, j in itertools.product(range(cm.shape[0]), range(cm.shape[1])):\n",
        "        plt.text(j, i, format(cm[i, j], fmt),\n",
        "                 horizontalalignment=\"center\",\n",
        "                 color=\"white\" if cm[i, j] > thresh else \"black\")\n",
        "\n",
        "    plt.ylabel('True label')\n",
        "    plt.xlabel('Predicted label')\n",
        "    plt.show()\n",
        "\n",
        "\n",
        "# Computing the confusion matrix between predictions and real labels through the\n",
        "# sklearn library function\n",
        "cm = confusion_matrix(y_test, predictions)\n",
        "classes = ['disco', 'pop', 'reggae', 'rock']\n",
        "\n",
        "plt.figure(figsize=(10, 10))\n",
        "plot_confusion_matrix(cm, classes, normalize=True)"
      ],
      "execution_count": 0,
      "outputs": [
        {
          "output_type": "display_data",
          "data": {
            "image/png": "[encoded data removed]",
            "text/plain": [
              "<Figure size 720x720 with 2 Axes>"
            ]
          },
          "metadata": {
            "tags": [],
            "needs_background": "light"
          }
        }
      ]
    }
  ]
}